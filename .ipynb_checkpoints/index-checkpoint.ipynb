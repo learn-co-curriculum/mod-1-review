{
 "cells": [
  {
   "cell_type": "markdown",
   "metadata": {},
   "source": [
    "# Phase 1 Review\n",
    "\n",
    "<u><h3>Today we will be reviewing the following topics:</h3></u>\n",
    "1. **SQL** 📚\n",
    "2. **APIs** 📡\n",
    "3. **Pandas** 🐼"
   ]
  },
  {
   "cell_type": "markdown",
   "metadata": {},
   "source": [
    "# Tasks\n",
    "\n",
    "**For this review,** please deliver the following: \n",
    "\n",
    "1. A dataframe containing all stock prices for 2017. \n",
    "    - Please report if any columns have null values.\n",
    "    - Drop any null values from this dataframe. \n",
    "    \n",
    "2. Find the top ten single day stock increases in 2017.\n",
    "\n",
    "3. A plot showing how many observations in the data occur on a US public holiday. \n",
    "    - Please print the names of the public holidays that are found within the dataset.\n",
    "\n",
    "4. A statement clarifying whether or not the `BDX` stock rose or fell on Veterans day of 2017. \n",
    "   - Please state what the opening and closing price for the stock was on Veterans day, and by how much it changed.\n",
    "\n",
    "\n",
    "5. A subplot containing two graphs.\n",
    "    - Plot 1: The top ten stock price *declines* on veterans day of 2017\n",
    "    - Plot 2: The top ten stock price *increases* on veterans day of 2017\n",
    "> Please ensure every plot has a contextualizing title\n",
    "\n",
    "### How will you do this?\n",
    "\n",
    "You have been given a database called `stocks.db` within the [data/](data/) folder of this repo. \n",
    "- This database contains the opening and closing prices for the S&P 500 from 2013-2018.\n",
    "\n",
    "For data on public holidays, you are to use <u>The Public Holidays API</u> which provides public holiday information for approximately 90 countries. \n",
    "\n",
    "The documentation for this API can be found [here](https://date.nager.at/swagger/index.html)\n",
    "\n",
    "***By combining data from these two sources, you will have the data required to complete the above tasks.***"
   ]
  },
  {
   "cell_type": "markdown",
   "metadata": {},
   "source": [
    "<center><h3>DATABASE SCHEMA</h3></center>\n",
    "\n",
    "<img src=\"db_schema.png\" width=500 height=500>"
   ]
  },
  {
   "cell_type": "markdown",
   "metadata": {},
   "source": [
    "# Please complete the above tasks below.\n",
    ">Sections have been provided to offer some guidance and structure as you work through this problem."
   ]
  },
  {
   "cell_type": "markdown",
   "metadata": {},
   "source": [
    "# Import Libraries\n",
    "\n",
    "<img src=\"https://www.dol.gov/sites/dolgov/files/OASAM/images/oasam-wirtz-library_500x345.png\" width=300 height=300>"
   ]
  },
  {
   "cell_type": "code",
   "execution_count": 1,
   "metadata": {
    "ExecuteTime": {
     "end_time": "2021-06-02T16:49:45.834282Z",
     "start_time": "2021-06-02T16:49:44.290321Z"
    }
   },
   "outputs": [],
   "source": [
    "# SQL Connection and Querying\n",
    "import sqlite3\n",
    "\n",
    "# API Connection\n",
    "import requests\n",
    "\n",
    "import pandas as pd\n",
    "import numpy as np\n",
    "\n",
    "import matplotlib.pyplot as plt"
   ]
  },
  {
   "cell_type": "markdown",
   "metadata": {},
   "source": [
    "# Task 1 - Data Collection"
   ]
  },
  {
   "cell_type": "markdown",
   "metadata": {},
   "source": [
    "## Query Database\n",
    "\n",
    "<img src=\"https://www.computerhope.com/jargon/d/database.jpg\" width=300 height=300>"
   ]
  },
  {
   "cell_type": "code",
   "execution_count": 2,
   "metadata": {
    "ExecuteTime": {
     "end_time": "2021-06-02T16:49:48.213083Z",
     "start_time": "2021-06-02T16:49:47.700536Z"
    }
   },
   "outputs": [],
   "source": [
    "conn = sqlite3.connect('data/stocks.db')\n",
    "stocks_2017 = pd.read_sql('''\n",
    "              SELECT open,\n",
    "                     close,\n",
    "                     date,\n",
    "                     name\n",
    "              FROM price\n",
    "              JOIN date\n",
    "              ON price.date_id = date.id\n",
    "              JOIN company\n",
    "              ON price.company_id = company.id\n",
    "              WHERE date BETWEEN date('2017-01-01') and date('2018-01-01')''', conn)"
   ]
  },
  {
   "cell_type": "markdown",
   "metadata": {},
   "source": [
    "## Task 2 - Find the top ten\n",
    "\n",
    "In the cell below, Find the top ten single day stock increases and visualize the results as a sorted bar plot.\n",
    "\n",
    "\n",
    "The visualization should look something like this:\n",
    "\n",
    "![](index_files/first_plot.png)"
   ]
  },
  {
   "cell_type": "code",
   "execution_count": 6,
   "metadata": {
    "ExecuteTime": {
     "end_time": "2021-06-02T16:51:13.002580Z",
     "start_time": "2021-06-02T16:51:12.986568Z"
    }
   },
   "outputs": [],
   "source": [
    "stocks_2017['change'] = stocks_2017.close - stocks_2017.open\n",
    "top_ten_increase = stocks_2017.sort_values('change', ascending=False).iloc[:10]"
   ]
  },
  {
   "cell_type": "code",
   "execution_count": 13,
   "metadata": {
    "ExecuteTime": {
     "end_time": "2021-06-02T16:54:18.848613Z",
     "start_time": "2021-06-02T16:54:18.756541Z"
    }
   },
   "outputs": [
    {
     "data": {
      "text/plain": [
       "<BarContainer object of 10 artists>"
      ]
     },
     "execution_count": 13,
     "metadata": {},
     "output_type": "execute_result"
    },
    {
     "data": {
      "image/png": "[encoded data removed]",
      "text/plain": [
       "<Figure size 432x288 with 1 Axes>"
      ]
     },
     "metadata": {
      "needs_background": "light"
     },
     "output_type": "display_data"
    }
   ],
   "source": [
    "fig, ax = plt.subplots()\n",
    "\n",
    "ax.bar(top_ten_increase.name, top_ten_increase.change)"
   ]
  },
  {
   "cell_type": "code",
   "execution_count": 24,
   "metadata": {
    "ExecuteTime": {
     "end_time": "2021-06-02T17:00:35.319380Z",
     "start_time": "2021-06-02T17:00:35.134297Z"
    }
   },
   "outputs": [
    {
     "data": {
      "image/png": "[encoded data removed]",
      "text/plain": [
       "<Figure size 1080x432 with 1 Axes>"
      ]
     },
     "metadata": {
      "needs_background": "light"
     },
     "output_type": "display_data"
    }
   ],
   "source": [
    "fig, ax = plt.subplots(figsize=(15,6))\n",
    "\n",
    "xlabels = top_ten_increase.name + '\\n' + top_ten_increase.date.astype(str)\n",
    "ax.bar(xlabels, top_ten_increase.change)\n",
    "ax.set_title('10 Largest Single Day Stock Increase - 2017', fontsize=25)\n",
    "ax.set_ylabel('Change in stock value', fontsize=15)\n",
    "ax.set_xlabel('Stock', fontsize=15)\n",
    "fig.savefig('index_files/first_plot.png')"
   ]
  },
  {
   "cell_type": "markdown",
   "metadata": {},
   "source": [
    "## Public Holiday API\n",
    "\n",
    "<img src=\"https://www.cityofnewportrichey.org/wp-content/uploads/2018/04/bank-holidays.jpg\" width=500 height=500>"
   ]
  },
  {
   "cell_type": "code",
   "execution_count": 3,
   "metadata": {
    "ExecuteTime": {
     "end_time": "2021-06-02T16:49:52.473725Z",
     "start_time": "2021-06-02T16:49:51.468820Z"
    },
    "run_control": {
     "marked": false
    }
   },
   "outputs": [],
   "source": [
    "us_holidays = requests.get('https://date.nager.at/Api/v1/Get/US/2017').json()\n",
    "\n",
    "stocks_2017.date = pd.to_datetime(stocks_2017.date)\n",
    "holidays = [pd.to_datetime(holiday['date']) for holiday in us_holidays]\n",
    "\n",
    "def is_holiday(date):\n",
    "    if date in holidays:\n",
    "        return 1\n",
    "    else:\n",
    "        return 0\n",
    "    \n",
    "stocks_2017['is_holiday'] = stocks_2017.date.apply(is_holiday)"
   ]
  },
  {
   "cell_type": "markdown",
   "metadata": {},
   "source": [
    "### How many observations fall on a public holiday?"
   ]
  },
  {
   "cell_type": "code",
   "execution_count": 4,
   "metadata": {
    "ExecuteTime": {
     "end_time": "2021-06-02T16:50:00.496136Z",
     "start_time": "2021-06-02T16:50:00.375175Z"
    }
   },
   "outputs": [
    {
     "data": {
      "image/png": "[encoded data removed]",
      "text/plain": [
       "<Figure size 432x288 with 1 Axes>"
      ]
     },
     "metadata": {
      "needs_background": "light"
     },
     "output_type": "display_data"
    }
   ],
   "source": [
    "holiday_count = stocks_2017.is_holiday.value_counts()\n",
    "holiday_map = lambda x: \"Holiday\" if x == 1 else \"Non Holiday\"\n",
    "plt.bar([holiday_map(x) for x in holiday_count.index], holiday_count.values)\n",
    "plt.title('Holiday Representation in Data');"
   ]
  },
  {
   "cell_type": "markdown",
   "metadata": {},
   "source": [
    "### What holidays are found in this dataset?"
   ]
  },
  {
   "cell_type": "code",
   "execution_count": 122,
   "metadata": {
    "ExecuteTime": {
     "end_time": "2020-09-03T16:37:05.730565Z",
     "start_time": "2020-09-03T16:37:05.720716Z"
    },
    "code_folding": []
   },
   "outputs": [
    {
     "name": "stdout",
     "output_type": "stream",
     "text": [
      "=====================\n",
      "2017-01-20\n",
      "Inauguration Day\n",
      "=====================\n",
      "2017-10-09\n",
      "Columbus Day\n",
      "=====================\n",
      "2017-11-10\n",
      "Veterans Day\n",
      "=====================\n"
     ]
    }
   ],
   "source": [
    "found_holidays = stocks_2017[stocks_2017.is_holiday == 1].date.unique()\n",
    "print('=====================')\n",
    "for holiday in us_holidays:\n",
    "    if pd.to_datetime(holiday['date']) in found_holidays:\n",
    "        print(holiday['date'])\n",
    "        print(holiday['name'])\n",
    "        print('=====================')"
   ]
  },
  {
   "cell_type": "markdown",
   "metadata": {},
   "source": [
    "### Calculate the price change from opening to close"
   ]
  },
  {
   "cell_type": "code",
   "execution_count": 128,
   "metadata": {
    "ExecuteTime": {
     "end_time": "2020-09-03T16:38:49.482091Z",
     "start_time": "2020-09-03T16:38:49.472833Z"
    }
   },
   "outputs": [],
   "source": [
    "stocks_2017['price_change'] = stocks_2017.close - stocks_2017.open"
   ]
  },
  {
   "cell_type": "markdown",
   "metadata": {},
   "source": [
    "### Plot the top ten prices increases and decreases via subplots\n",
    "\n",
    "*Please create a code cell below to meet this task*"
   ]
  },
  {
   "cell_type": "code",
   "execution_count": 141,
   "metadata": {
    "ExecuteTime": {
     "end_time": "2020-09-03T16:44:01.334713Z",
     "start_time": "2020-09-03T16:44:01.018423Z"
    }
   },
   "outputs": [
    {
     "data": {
      "image/png": "[encoded data removed]",
      "text/plain": [
       "<Figure size 1080x360 with 2 Axes>"
      ]
     },
     "metadata": {
      "needs_background": "light"
     },
     "output_type": "display_data"
    }
   ],
   "source": [
    "veterans_day_top_ten_decline = stocks_2017[stocks_2017.date=='2017-11-10']\\\n",
    "    .sort_values(by='price_change')\\\n",
    "    .head(10)\n",
    "\n",
    "fig, axes = plt.subplots(1,2, figsize=(15,5))\n",
    "\n",
    "axes[0].bar(veterans_day_top_ten_decline.name, \n",
    "        veterans_day_top_ten_decline.price_change)\n",
    "\n",
    "axes[0].set_title('Top Ten Stock Price Decline Veterans Day 2017');\n",
    "\n",
    "veterans_day_top_ten_increase = stocks_2017[stocks_2017.date=='2017-11-10']\\\n",
    "    .sort_values(by='price_change', ascending=False)\\\n",
    "    .head(10)\n",
    "\n",
    "axes[1].bar(veterans_day_top_ten_increase.name, \n",
    "        veterans_day_top_ten_increase.price_change)\n",
    "\n",
    "axes[1].set_title('Top Ten Stock Price Increase Veterans Day 2017');"
   ]
  }
 ],
 "metadata": {
  "kernelspec": {
   "display_name": "Python 3",
   "language": "python",
   "name": "python3"
  },
  "language_info": {
   "codemirror_mode": {
    "name": "ipython",
    "version": 3
   },
   "file_extension": ".py",
   "mimetype": "text/x-python",
   "name": "python",
   "nbconvert_exporter": "python",
   "pygments_lexer": "ipython3",
   "version": "3.7.4"
  },
  "toc": {
   "base_numbering": 1,
   "nav_menu": {},
   "number_sections": false,
   "sideBar": true,
   "skip_h1_title": true,
   "title_cell": "Table of Contents",
   "title_sidebar": "Contents",
   "toc_cell": false,
   "toc_position": {},
   "toc_section_display": true,
   "toc_window_display": false
  },
  "varInspector": {
   "cols": {
    "lenName": 16,
    "lenType": 16,
    "lenVar": 40
   },
   "kernels_config": {
    "python": {
     "delete_cmd_postfix": "",
     "delete_cmd_prefix": "del ",
     "library": "var_list.py",
     "varRefreshCmd": "print(var_dic_list())"
    },
    "r": {
     "delete_cmd_postfix": ") ",
     "delete_cmd_prefix": "rm(",
     "library": "var_list.r",
     "varRefreshCmd": "cat(var_dic_list()) "
    }
   },
   "types_to_exclude": [
    "module",
    "function",
    "builtin_function_or_method",
    "instance",
    "_Feature"
   ],
   "window_display": false
  }
 },
 "nbformat": 4,
 "nbformat_minor": 4
}
