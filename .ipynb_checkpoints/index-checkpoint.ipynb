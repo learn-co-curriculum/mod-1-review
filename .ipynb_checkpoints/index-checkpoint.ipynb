{
 "cells": [
  {
   "cell_type": "markdown",
   "metadata": {},
   "source": [
    "# Phase 1 Review\n",
    "\n",
    "<u><h3>Today we will be reviewing the following topics:</h3></u>\n",
    "1. **SQL** 📚\n",
    "2. **APIs** 📡\n",
    "3. **Pandas** 🐼"
   ]
  },
  {
   "cell_type": "markdown",
   "metadata": {},
   "source": [
    "# Tasks\n",
    "\n",
    "**For this review,** please deliver the following: \n",
    "\n",
    "1. A dataframe containing all stock prices for 2017. \n",
    "    - Please report if any columns have null values.\n",
    "    - Drop any null values from this dataframe. \n",
    "    \n",
    "2. Find the top ten single day stock increases in 2017.\n",
    "\n",
    "3. A plot showing how many observations in the data occur on a US public holiday. \n",
    "    - Please print the names of the public holidays that are found within the dataset.\n",
    "\n",
    "4. A statement clarifying whether or not the `BDX` stock rose or fell on Veterans day of 2017. \n",
    "   - Please state what the opening and closing price for the stock was on Veterans day, and by how much it changed.\n",
    "\n",
    "\n",
    "5. A subplot containing two graphs.\n",
    "    - Plot 1: The top ten stock price *declines* on veterans day of 2017\n",
    "    - Plot 2: The top ten stock price *increases* on veterans day of 2017\n",
    "> Please ensure every plot has a contextualizing title\n",
    "\n",
    "### How will you do this?\n",
    "\n",
    "You have been given a database called `stocks.db` within the [data/](data/) folder of this repo. \n",
    "- This database contains the opening and closing prices for the S&P 500 from 2013-2018.\n",
    "\n",
    "For data on public holidays, you are to use <u>The Public Holidays API</u> which provides public holiday information for approximately 90 countries. \n",
    "\n",
    "The documentation for this API can be found [here](https://date.nager.at/swagger/index.html)\n",
    "\n",
    "***By combining data from these two sources, you will have the data required to complete the above tasks.***"
   ]
  },
  {
   "cell_type": "markdown",
   "metadata": {},
   "source": [
    "<center><h3>DATABASE SCHEMA</h3></center>\n",
    "\n",
    "<img src=\"db_schema.png\" width=500 height=500>"
   ]
  },
  {
   "cell_type": "markdown",
   "metadata": {},
   "source": [
    "# Please complete the above tasks below.\n",
    ">Sections have been provided to offer some guidance and structure as you work through this problem."
   ]
  },
  {
   "cell_type": "markdown",
   "metadata": {},
   "source": [
    "# Import Libraries\n",
    "\n",
    "<img src=\"https://www.dol.gov/sites/dolgov/files/OASAM/images/oasam-wirtz-library_500x345.png\" width=300 height=300>"
   ]
  },
  {
   "cell_type": "code",
   "execution_count": null,
   "metadata": {},
   "outputs": [],
   "source": [
    "# Your work goes here\n",
    "# Feel free to add more cells!"
   ]
  },
  {
   "cell_type": "markdown",
   "metadata": {},
   "source": [
    "## Task 1 - Data Collection"
   ]
  },
  {
   "cell_type": "markdown",
   "metadata": {},
   "source": [
    "### Query Database\n",
    "\n",
    "<img src=\"https://www.computerhope.com/jargon/d/database.jpg\" width=300 height=300>"
   ]
  },
  {
   "cell_type": "code",
   "execution_count": null,
   "metadata": {},
   "outputs": [],
   "source": [
    "# Your work goes here\n",
    "# Feel free to add more cells!"
   ]
  },
  {
   "cell_type": "markdown",
   "metadata": {},
   "source": [
    "## Task 2 - Find the top ten\n",
    "\n",
    "In the cell below, Find the top ten single day stock increases and visualize the results as a sorted bar plot.\n",
    "\n",
    "\n",
    "The visualization should look something like this:\n",
    "\n",
    "![](first_plot.png)"
   ]
  },
  {
   "cell_type": "markdown",
   "metadata": {},
   "source": [
    "## Public Holiday API\n",
    "\n",
    "<img src=\"https://www.cityofnewportrichey.org/wp-content/uploads/2018/04/bank-holidays.jpg\" width=500 height=500>"
   ]
  },
  {
   "cell_type": "code",
   "execution_count": null,
   "metadata": {},
   "outputs": [],
   "source": [
    "# Your work goes here\n",
    "# Feel free to add more cells!"
   ]
  },
  {
   "cell_type": "markdown",
   "metadata": {},
   "source": [
    "## Task 3.1 - How many observations fall on a public holiday?"
   ]
  },
  {
   "cell_type": "code",
   "execution_count": null,
   "metadata": {},
   "outputs": [],
   "source": [
    "# Your work here!"
   ]
  },
  {
   "cell_type": "markdown",
   "metadata": {},
   "source": [
    "## Task 3.2 - What holidays are found in this dataset?"
   ]
  },
  {
   "cell_type": "code",
   "execution_count": null,
   "metadata": {},
   "outputs": [],
   "source": [
    "# Your work here!"
   ]
  },
  {
   "cell_type": "markdown",
   "metadata": {},
   "source": [
    "## Task 4 - A statement clarifying whether or not the `BDX` stock rose or fell on Veterans day of 2017. "
   ]
  },
  {
   "cell_type": "code",
   "execution_count": null,
   "metadata": {},
   "outputs": [],
   "source": [
    "# Your code here"
   ]
  },
  {
   "cell_type": "markdown",
   "metadata": {},
   "source": [
    "## Task 5 - Plot the top ten prices increases and decreases via subplots\n",
    "\n",
    "*Please create a code cell below to meet this task*"
   ]
  },
  {
   "cell_type": "code",
   "execution_count": null,
   "metadata": {},
   "outputs": [],
   "source": []
  }
 ],
 "metadata": {
  "kernelspec": {
   "display_name": "Python 3",
   "language": "python",
   "name": "python3"
  },
  "language_info": {
   "codemirror_mode": {
    "name": "ipython",
    "version": 3
   },
   "file_extension": ".py",
   "mimetype": "text/x-python",
   "name": "python",
   "nbconvert_exporter": "python",
   "pygments_lexer": "ipython3",
   "version": "3.7.4"
  },
  "toc": {
   "base_numbering": 1,
   "nav_menu": {},
   "number_sections": false,
   "sideBar": true,
   "skip_h1_title": true,
   "title_cell": "Table of Contents",
   "title_sidebar": "Contents",
   "toc_cell": false,
   "toc_position": {},
   "toc_section_display": true,
   "toc_window_display": false
  },
  "varInspector": {
   "cols": {
    "lenName": 16,
    "lenType": 16,
    "lenVar": 40
   },
   "kernels_config": {
    "python": {
     "delete_cmd_postfix": "",
     "delete_cmd_prefix": "del ",
     "library": "var_list.py",
     "varRefreshCmd": "print(var_dic_list())"
    },
    "r": {
     "delete_cmd_postfix": ") ",
     "delete_cmd_prefix": "rm(",
     "library": "var_list.r",
     "varRefreshCmd": "cat(var_dic_list()) "
    }
   },
   "types_to_exclude": [
    "module",
    "function",
    "builtin_function_or_method",
    "instance",
    "_Feature"
   ],
   "window_display": false
  }
 },
 "nbformat": 4,
 "nbformat_minor": 4
}
